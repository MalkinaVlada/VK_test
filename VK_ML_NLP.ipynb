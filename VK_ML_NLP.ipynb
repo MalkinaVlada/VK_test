{
 "cells": [
  {
   "cell_type": "code",
   "execution_count": 1,
   "id": "81532763",
   "metadata": {},
   "outputs": [],
   "source": [
    "import pandas as pd\n",
    "\n",
    "data_train = pd.read_csv('/Users/vladamalkina/Downloads/train_spam.csv')\n",
    "data_test = pd.read_csv('/Users/vladamalkina/Downloads/test_spam.csv')"
   ]
  },
  {
   "cell_type": "markdown",
   "id": "527a4767",
   "metadata": {},
   "source": [
    "### выведем первые 5 строчек датасетов"
   ]
  },
  {
   "cell_type": "code",
   "execution_count": 2,
   "id": "b4cb8aea",
   "metadata": {},
   "outputs": [
    {
     "data": {
      "text/html": [
       "<div>\n",
       "<style scoped>\n",
       "    .dataframe tbody tr th:only-of-type {\n",
       "        vertical-align: middle;\n",
       "    }\n",
       "\n",
       "    .dataframe tbody tr th {\n",
       "        vertical-align: top;\n",
       "    }\n",
       "\n",
       "    .dataframe thead th {\n",
       "        text-align: right;\n",
       "    }\n",
       "</style>\n",
       "<table border=\"1\" class=\"dataframe\">\n",
       "  <thead>\n",
       "    <tr style=\"text-align: right;\">\n",
       "      <th></th>\n",
       "      <th>text_type</th>\n",
       "      <th>text</th>\n",
       "    </tr>\n",
       "  </thead>\n",
       "  <tbody>\n",
       "    <tr>\n",
       "      <th>0</th>\n",
       "      <td>ham</td>\n",
       "      <td>make sure alex knows his birthday is over in f...</td>\n",
       "    </tr>\n",
       "    <tr>\n",
       "      <th>1</th>\n",
       "      <td>ham</td>\n",
       "      <td>a resume for john lavorato thanks vince i will...</td>\n",
       "    </tr>\n",
       "    <tr>\n",
       "      <th>2</th>\n",
       "      <td>spam</td>\n",
       "      <td>plzz visit my website moviesgodml to get all m...</td>\n",
       "    </tr>\n",
       "    <tr>\n",
       "      <th>3</th>\n",
       "      <td>spam</td>\n",
       "      <td>urgent your mobile number has been awarded wit...</td>\n",
       "    </tr>\n",
       "    <tr>\n",
       "      <th>4</th>\n",
       "      <td>ham</td>\n",
       "      <td>overview of hr associates analyst project per ...</td>\n",
       "    </tr>\n",
       "  </tbody>\n",
       "</table>\n",
       "</div>"
      ],
      "text/plain": [
       "  text_type                                               text\n",
       "0       ham  make sure alex knows his birthday is over in f...\n",
       "1       ham  a resume for john lavorato thanks vince i will...\n",
       "2      spam  plzz visit my website moviesgodml to get all m...\n",
       "3      spam  urgent your mobile number has been awarded wit...\n",
       "4       ham  overview of hr associates analyst project per ..."
      ]
     },
     "metadata": {},
     "output_type": "display_data"
    }
   ],
   "source": [
    "display(data_train.head())"
   ]
  },
  {
   "cell_type": "code",
   "execution_count": 3,
   "id": "2266b71f",
   "metadata": {},
   "outputs": [
    {
     "data": {
      "text/html": [
       "<div>\n",
       "<style scoped>\n",
       "    .dataframe tbody tr th:only-of-type {\n",
       "        vertical-align: middle;\n",
       "    }\n",
       "\n",
       "    .dataframe tbody tr th {\n",
       "        vertical-align: top;\n",
       "    }\n",
       "\n",
       "    .dataframe thead th {\n",
       "        text-align: right;\n",
       "    }\n",
       "</style>\n",
       "<table border=\"1\" class=\"dataframe\">\n",
       "  <thead>\n",
       "    <tr style=\"text-align: right;\">\n",
       "      <th></th>\n",
       "      <th>text</th>\n",
       "    </tr>\n",
       "  </thead>\n",
       "  <tbody>\n",
       "    <tr>\n",
       "      <th>0</th>\n",
       "      <td>j jim whitehead ejw cse ucsc edu writes j you ...</td>\n",
       "    </tr>\n",
       "    <tr>\n",
       "      <th>1</th>\n",
       "      <td>original message from bitbitch magnesium net p...</td>\n",
       "    </tr>\n",
       "    <tr>\n",
       "      <th>2</th>\n",
       "      <td>java for managers vince durasoft who just taug...</td>\n",
       "    </tr>\n",
       "    <tr>\n",
       "      <th>3</th>\n",
       "      <td>there is a youtuber name saiman says</td>\n",
       "    </tr>\n",
       "    <tr>\n",
       "      <th>4</th>\n",
       "      <td>underpriced issue with high return on equity t...</td>\n",
       "    </tr>\n",
       "  </tbody>\n",
       "</table>\n",
       "</div>"
      ],
      "text/plain": [
       "                                                text\n",
       "0  j jim whitehead ejw cse ucsc edu writes j you ...\n",
       "1  original message from bitbitch magnesium net p...\n",
       "2  java for managers vince durasoft who just taug...\n",
       "3               there is a youtuber name saiman says\n",
       "4  underpriced issue with high return on equity t..."
      ]
     },
     "metadata": {},
     "output_type": "display_data"
    }
   ],
   "source": [
    "display(data_test.head())"
   ]
  },
  {
   "cell_type": "markdown",
   "id": "f074d03d",
   "metadata": {},
   "source": [
    "### выведем общую информацию"
   ]
  },
  {
   "cell_type": "code",
   "execution_count": 4,
   "id": "50b14a29",
   "metadata": {},
   "outputs": [
    {
     "name": "stdout",
     "output_type": "stream",
     "text": [
      "<class 'pandas.core.frame.DataFrame'>\n",
      "RangeIndex: 16278 entries, 0 to 16277\n",
      "Data columns (total 2 columns):\n",
      " #   Column     Non-Null Count  Dtype \n",
      "---  ------     --------------  ----- \n",
      " 0   text_type  16278 non-null  object\n",
      " 1   text       16278 non-null  object\n",
      "dtypes: object(2)\n",
      "memory usage: 254.5+ KB\n"
     ]
    }
   ],
   "source": [
    "data_train.info()"
   ]
  },
  {
   "cell_type": "code",
   "execution_count": 5,
   "id": "26182c3d",
   "metadata": {},
   "outputs": [
    {
     "name": "stdout",
     "output_type": "stream",
     "text": [
      "<class 'pandas.core.frame.DataFrame'>\n",
      "RangeIndex: 4070 entries, 0 to 4069\n",
      "Data columns (total 1 columns):\n",
      " #   Column  Non-Null Count  Dtype \n",
      "---  ------  --------------  ----- \n",
      " 0   text    4070 non-null   object\n",
      "dtypes: object(1)\n",
      "memory usage: 31.9+ KB\n"
     ]
    }
   ],
   "source": [
    "data_test.info()"
   ]
  },
  {
   "cell_type": "markdown",
   "id": "71290a34",
   "metadata": {},
   "source": [
    "### размеры датасетов"
   ]
  },
  {
   "cell_type": "code",
   "execution_count": 6,
   "id": "d452c573",
   "metadata": {},
   "outputs": [
    {
     "data": {
      "text/plain": [
       "(16278, 2)"
      ]
     },
     "execution_count": 6,
     "metadata": {},
     "output_type": "execute_result"
    }
   ],
   "source": [
    "data_train.shape"
   ]
  },
  {
   "cell_type": "code",
   "execution_count": 7,
   "id": "905de259",
   "metadata": {},
   "outputs": [
    {
     "data": {
      "text/plain": [
       "(4070, 1)"
      ]
     },
     "execution_count": 7,
     "metadata": {},
     "output_type": "execute_result"
    }
   ],
   "source": [
    "data_test.shape"
   ]
  },
  {
   "cell_type": "markdown",
   "id": "b5c62b12",
   "metadata": {},
   "source": [
    "### Распределение target:"
   ]
  },
  {
   "cell_type": "code",
   "execution_count": 8,
   "id": "d1c8ac2f",
   "metadata": {},
   "outputs": [
    {
     "name": "stdout",
     "output_type": "stream",
     "text": [
      "ham     0.704571\n",
      "spam    0.295429\n",
      "Name: text_type, dtype: float64\n"
     ]
    },
    {
     "data": {
      "text/plain": [
       "<AxesSubplot:>"
      ]
     },
     "execution_count": 8,
     "metadata": {},
     "output_type": "execute_result"
    },
    {
     "data": {
      "image/png": "[encoded data removed]",
      "text/plain": [
       "<Figure size 640x480 with 1 Axes>"
      ]
     },
     "metadata": {},
     "output_type": "display_data"
    }
   ],
   "source": [
    "class_frequency = data_train['text_type'].value_counts(normalize = True)\n",
    "print(class_frequency)\n",
    "class_frequency.plot(kind='bar')"
   ]
  },
  {
   "cell_type": "markdown",
   "id": "f79c3b82",
   "metadata": {},
   "source": [
    "### Очистка текста:"
   ]
  },
  {
   "cell_type": "code",
   "execution_count": 9,
   "id": "5e0eee5b",
   "metadata": {},
   "outputs": [],
   "source": [
    "import re"
   ]
  },
  {
   "cell_type": "code",
   "execution_count": 10,
   "id": "6fc147d1",
   "metadata": {},
   "outputs": [],
   "source": [
    "def clear_text(text):\n",
    "    text = re.sub(r'[^a-zA-Z]', ' ', text)\n",
    "    text = text.split()\n",
    "    text = \" \".join(text)\n",
    "    return text"
   ]
  },
  {
   "cell_type": "code",
   "execution_count": 11,
   "id": "bde672b6",
   "metadata": {},
   "outputs": [
    {
     "data": {
      "text/html": [
       "<div>\n",
       "<style scoped>\n",
       "    .dataframe tbody tr th:only-of-type {\n",
       "        vertical-align: middle;\n",
       "    }\n",
       "\n",
       "    .dataframe tbody tr th {\n",
       "        vertical-align: top;\n",
       "    }\n",
       "\n",
       "    .dataframe thead th {\n",
       "        text-align: right;\n",
       "    }\n",
       "</style>\n",
       "<table border=\"1\" class=\"dataframe\">\n",
       "  <thead>\n",
       "    <tr style=\"text-align: right;\">\n",
       "      <th></th>\n",
       "      <th>text_type</th>\n",
       "      <th>text</th>\n",
       "      <th>lemm_text</th>\n",
       "    </tr>\n",
       "  </thead>\n",
       "  <tbody>\n",
       "    <tr>\n",
       "      <th>0</th>\n",
       "      <td>ham</td>\n",
       "      <td>make sure alex knows his birthday is over in f...</td>\n",
       "      <td>make sure alex knows his birthday is over in f...</td>\n",
       "    </tr>\n",
       "    <tr>\n",
       "      <th>1</th>\n",
       "      <td>ham</td>\n",
       "      <td>a resume for john lavorato thanks vince i will...</td>\n",
       "      <td>a resume for john lavorato thanks vince i will...</td>\n",
       "    </tr>\n",
       "    <tr>\n",
       "      <th>2</th>\n",
       "      <td>spam</td>\n",
       "      <td>plzz visit my website moviesgodml to get all m...</td>\n",
       "      <td>plzz visit my website moviesgodml to get all m...</td>\n",
       "    </tr>\n",
       "    <tr>\n",
       "      <th>3</th>\n",
       "      <td>spam</td>\n",
       "      <td>urgent your mobile number has been awarded wit...</td>\n",
       "      <td>urgent your mobile number has been awarded wit...</td>\n",
       "    </tr>\n",
       "    <tr>\n",
       "      <th>4</th>\n",
       "      <td>ham</td>\n",
       "      <td>overview of hr associates analyst project per ...</td>\n",
       "      <td>overview of hr associates analyst project per ...</td>\n",
       "    </tr>\n",
       "  </tbody>\n",
       "</table>\n",
       "</div>"
      ],
      "text/plain": [
       "  text_type                                               text  \\\n",
       "0       ham  make sure alex knows his birthday is over in f...   \n",
       "1       ham  a resume for john lavorato thanks vince i will...   \n",
       "2      spam  plzz visit my website moviesgodml to get all m...   \n",
       "3      spam  urgent your mobile number has been awarded wit...   \n",
       "4       ham  overview of hr associates analyst project per ...   \n",
       "\n",
       "                                           lemm_text  \n",
       "0  make sure alex knows his birthday is over in f...  \n",
       "1  a resume for john lavorato thanks vince i will...  \n",
       "2  plzz visit my website moviesgodml to get all m...  \n",
       "3  urgent your mobile number has been awarded wit...  \n",
       "4  overview of hr associates analyst project per ...  "
      ]
     },
     "execution_count": 11,
     "metadata": {},
     "output_type": "execute_result"
    }
   ],
   "source": [
    "data_train['lemm_text'] = data_train['text'].apply(clear_text)\n",
    "data_train.head()"
   ]
  },
  {
   "cell_type": "code",
   "execution_count": 12,
   "id": "2911c9ca",
   "metadata": {},
   "outputs": [
    {
     "data": {
      "text/html": [
       "<div>\n",
       "<style scoped>\n",
       "    .dataframe tbody tr th:only-of-type {\n",
       "        vertical-align: middle;\n",
       "    }\n",
       "\n",
       "    .dataframe tbody tr th {\n",
       "        vertical-align: top;\n",
       "    }\n",
       "\n",
       "    .dataframe thead th {\n",
       "        text-align: right;\n",
       "    }\n",
       "</style>\n",
       "<table border=\"1\" class=\"dataframe\">\n",
       "  <thead>\n",
       "    <tr style=\"text-align: right;\">\n",
       "      <th></th>\n",
       "      <th>text</th>\n",
       "      <th>lemm_text</th>\n",
       "    </tr>\n",
       "  </thead>\n",
       "  <tbody>\n",
       "    <tr>\n",
       "      <th>0</th>\n",
       "      <td>j jim whitehead ejw cse ucsc edu writes j you ...</td>\n",
       "      <td>j jim whitehead ejw cse ucsc edu writes j you ...</td>\n",
       "    </tr>\n",
       "    <tr>\n",
       "      <th>1</th>\n",
       "      <td>original message from bitbitch magnesium net p...</td>\n",
       "      <td>original message from bitbitch magnesium net p...</td>\n",
       "    </tr>\n",
       "    <tr>\n",
       "      <th>2</th>\n",
       "      <td>java for managers vince durasoft who just taug...</td>\n",
       "      <td>java for managers vince durasoft who just taug...</td>\n",
       "    </tr>\n",
       "    <tr>\n",
       "      <th>3</th>\n",
       "      <td>there is a youtuber name saiman says</td>\n",
       "      <td>there is a youtuber name saiman says</td>\n",
       "    </tr>\n",
       "    <tr>\n",
       "      <th>4</th>\n",
       "      <td>underpriced issue with high return on equity t...</td>\n",
       "      <td>underpriced issue with high return on equity t...</td>\n",
       "    </tr>\n",
       "  </tbody>\n",
       "</table>\n",
       "</div>"
      ],
      "text/plain": [
       "                                                text  \\\n",
       "0  j jim whitehead ejw cse ucsc edu writes j you ...   \n",
       "1  original message from bitbitch magnesium net p...   \n",
       "2  java for managers vince durasoft who just taug...   \n",
       "3               there is a youtuber name saiman says   \n",
       "4  underpriced issue with high return on equity t...   \n",
       "\n",
       "                                           lemm_text  \n",
       "0  j jim whitehead ejw cse ucsc edu writes j you ...  \n",
       "1  original message from bitbitch magnesium net p...  \n",
       "2  java for managers vince durasoft who just taug...  \n",
       "3               there is a youtuber name saiman says  \n",
       "4  underpriced issue with high return on equity t...  "
      ]
     },
     "execution_count": 12,
     "metadata": {},
     "output_type": "execute_result"
    }
   ],
   "source": [
    "data_test['lemm_text'] = data_test['text'].apply(clear_text)\n",
    "data_test.head()"
   ]
  },
  {
   "cell_type": "markdown",
   "id": "499889fd",
   "metadata": {},
   "source": [
    "### Лемматизация текста:"
   ]
  },
  {
   "cell_type": "code",
   "execution_count": 13,
   "id": "626cb0c0",
   "metadata": {},
   "outputs": [],
   "source": [
    "import spacy\n",
    "import en_core_web_sm"
   ]
  },
  {
   "cell_type": "code",
   "execution_count": 14,
   "id": "f460bffd",
   "metadata": {},
   "outputs": [],
   "source": [
    "nlp = spacy.load('en_core_web_sm', disable=['parser', 'ner'])"
   ]
  },
  {
   "cell_type": "code",
   "execution_count": 15,
   "id": "c901a314",
   "metadata": {},
   "outputs": [],
   "source": [
    "def lemmatize(text):\n",
    "    lemm_list = nlp(text)\n",
    "    lemm_text = \" \".join([token.lemma_ for token in lemm_list])\n",
    "    return lemm_text"
   ]
  },
  {
   "cell_type": "code",
   "execution_count": 16,
   "id": "9adc957d",
   "metadata": {},
   "outputs": [
    {
     "data": {
      "text/plain": [
       "0    make sure alex know his birthday be over in fi...\n",
       "1    a resume for john lavorato thanks vince I will...\n",
       "2    plzz visit my website moviesgodml to get all m...\n",
       "3    urgent your mobile number have be award with a...\n",
       "4    overview of hr associates analyst project per ...\n",
       "Name: lemm_text, dtype: object"
      ]
     },
     "execution_count": 16,
     "metadata": {},
     "output_type": "execute_result"
    }
   ],
   "source": [
    "data_train['lemm_text'] = data_train['lemm_text'].apply(lemmatize)\n",
    "data_train['lemm_text'].head()"
   ]
  },
  {
   "cell_type": "code",
   "execution_count": 17,
   "id": "db68b87a",
   "metadata": {},
   "outputs": [
    {
     "data": {
      "text/plain": [
       "0    j jim whitehead ejw cse ucsc edu write j you o...\n",
       "1    original message from bitbitch magnesium net p...\n",
       "2    java for manager vince durasoft who just teach...\n",
       "3                  there be a youtuber name saiman say\n",
       "4    underprice issue with high return on equity th...\n",
       "Name: lemm_text, dtype: object"
      ]
     },
     "execution_count": 17,
     "metadata": {},
     "output_type": "execute_result"
    }
   ],
   "source": [
    "data_test['lemm_text'] = data_test['lemm_text'].apply(lemmatize)\n",
    "data_test['lemm_text'].head()"
   ]
  },
  {
   "cell_type": "markdown",
   "id": "25719932",
   "metadata": {},
   "source": [
    "### разделим features и target"
   ]
  },
  {
   "cell_type": "code",
   "execution_count": 18,
   "id": "c5acd3f6",
   "metadata": {},
   "outputs": [],
   "source": [
    "X = data_train.drop(columns = ['text_type', 'text'])\n",
    "y = data_train['text_type']"
   ]
  },
  {
   "cell_type": "markdown",
   "id": "529c9428",
   "metadata": {},
   "source": [
    "### разделим данные на тренировочную и валидационную выборки"
   ]
  },
  {
   "cell_type": "code",
   "execution_count": 19,
   "id": "38386427",
   "metadata": {},
   "outputs": [],
   "source": [
    "from sklearn.model_selection import train_test_split\n",
    "X_train, X_val, y_train, y_val = train_test_split(X, y, test_size=0.25, random_state=42)"
   ]
  },
  {
   "cell_type": "markdown",
   "id": "5f9d617a",
   "metadata": {},
   "source": [
    "### Вычисление TF-IDF для корпуса текстов:"
   ]
  },
  {
   "cell_type": "code",
   "execution_count": 20,
   "id": "d77ea515",
   "metadata": {},
   "outputs": [],
   "source": [
    "corpus_train = X_train['lemm_text']\n",
    "corpus_valid = X_val['lemm_text']\n",
    "corpus_test = data_test['lemm_text']"
   ]
  },
  {
   "cell_type": "code",
   "execution_count": 21,
   "id": "f6f66899",
   "metadata": {},
   "outputs": [],
   "source": [
    "import nltk\n",
    "from sklearn.feature_extraction.text import TfidfVectorizer\n",
    "count_tf_idf = TfidfVectorizer()"
   ]
  },
  {
   "cell_type": "code",
   "execution_count": 22,
   "id": "86618046",
   "metadata": {},
   "outputs": [],
   "source": [
    "tf_idf_train = count_tf_idf.fit_transform(corpus_train)\n",
    "tf_idf_valid = count_tf_idf.transform(corpus_valid)\n",
    "tf_idf_test = count_tf_idf.transform(corpus_test)"
   ]
  },
  {
   "cell_type": "code",
   "execution_count": 23,
   "id": "81377801",
   "metadata": {},
   "outputs": [
    {
     "name": "stdout",
     "output_type": "stream",
     "text": [
      "Размер матрицы: (12208, 31517)\n",
      "Размер матрицы: (4070, 31517)\n",
      "Размер матрицы: (4070, 31517)\n"
     ]
    }
   ],
   "source": [
    "print(\"Размер матрицы:\", tf_idf_train.shape)\n",
    "print(\"Размер матрицы:\", tf_idf_valid.shape)\n",
    "print(\"Размер матрицы:\", tf_idf_test.shape)"
   ]
  },
  {
   "cell_type": "markdown",
   "id": "06d9ddf7",
   "metadata": {},
   "source": [
    "### обучение моделей"
   ]
  },
  {
   "cell_type": "markdown",
   "id": "5674cc3a",
   "metadata": {},
   "source": [
    "#### logistic regression"
   ]
  },
  {
   "cell_type": "code",
   "execution_count": 24,
   "id": "0c65de1a",
   "metadata": {},
   "outputs": [],
   "source": [
    "from sklearn.linear_model import LogisticRegression\n",
    "from sklearn.model_selection import GridSearchCV\n",
    "import numpy as np\n",
    "import warnings \n",
    "warnings.filterwarnings('ignore')"
   ]
  },
  {
   "cell_type": "code",
   "execution_count": 25,
   "id": "95229c61",
   "metadata": {},
   "outputs": [
    {
     "data": {
      "text/plain": [
       "{'C': 1.0, 'class_weight': 'balanced', 'penalty': 'l2'}"
      ]
     },
     "execution_count": 25,
     "metadata": {},
     "output_type": "execute_result"
    }
   ],
   "source": [
    "parametrs = { \"C\" : np.logspace(-3,3,7), \"penalty\" : [\"l1\",\"l2\"], \"class_weight\" : [\"auto\", \"balanced\"]}\n",
    "log_reg = LogisticRegression()\n",
    "grid_log_reg = GridSearchCV(log_reg, parametrs, cv=5)\n",
    "grid_log_reg.fit(tf_idf_train, y_train)\n",
    "grid_log_reg.best_params_"
   ]
  },
  {
   "cell_type": "code",
   "execution_count": 26,
   "id": "afb53566",
   "metadata": {},
   "outputs": [],
   "source": [
    "model_log_reg = LogisticRegression(C = 1.0, class_weight = 'balanced', penalty = 'l2') \n",
    "model_log_reg.fit(tf_idf_train, y_train)\n",
    "predicted_valid =  model_log_reg.predict(tf_idf_valid)"
   ]
  },
  {
   "cell_type": "code",
   "execution_count": 27,
   "id": "7c698c1a",
   "metadata": {},
   "outputs": [],
   "source": [
    "from sklearn.preprocessing import LabelEncoder\n",
    "labelencoder = LabelEncoder()\n",
    "y_val = labelencoder.fit_transform(y_val)"
   ]
  },
  {
   "cell_type": "code",
   "execution_count": 28,
   "id": "59d03541",
   "metadata": {},
   "outputs": [
    {
     "name": "stdout",
     "output_type": "stream",
     "text": [
      "ROC-AUC мера наилучшей модели на валидационной выборке: 0.9000497619167432\n"
     ]
    }
   ],
   "source": [
    "from sklearn.metrics import roc_auc_score\n",
    "predicted_valid = labelencoder.transform(predicted_valid)\n",
    "print(\"ROC-AUC мера наилучшей модели на валидационной выборке:\", roc_auc_score(y_val, predicted_valid))"
   ]
  },
  {
   "cell_type": "markdown",
   "id": "f517e0f5",
   "metadata": {},
   "source": [
    "#### random forest classifier"
   ]
  },
  {
   "cell_type": "code",
   "execution_count": 29,
   "id": "7fabd38b",
   "metadata": {},
   "outputs": [],
   "source": [
    "from sklearn.ensemble import RandomForestClassifier"
   ]
  },
  {
   "cell_type": "code",
   "execution_count": 30,
   "id": "34eb1475",
   "metadata": {},
   "outputs": [
    {
     "data": {
      "text/plain": [
       "{'max_depth': 9, 'n_estimators': 5}"
      ]
     },
     "execution_count": 30,
     "metadata": {},
     "output_type": "execute_result"
    }
   ],
   "source": [
    "parametrs = { 'n_estimators': range (1, 10, 1), 'max_depth': range (1, 10, 1)}\n",
    "rand_for_clas = RandomForestClassifier()\n",
    "grid_rand_for_clas = GridSearchCV(rand_for_clas, parametrs, cv=5)\n",
    "grid_rand_for_clas.fit(tf_idf_train, y_train)\n",
    "grid_rand_for_clas.best_params_"
   ]
  },
  {
   "cell_type": "code",
   "execution_count": 31,
   "id": "6884f5d4",
   "metadata": {},
   "outputs": [],
   "source": [
    "model_rand_for_clas = RandomForestClassifier(n_estimators = 3, max_depth = 9)\n",
    "model_rand_for_clas.fit(tf_idf_train, y_train)\n",
    "predicted_valid = model_rand_for_clas.predict(tf_idf_valid)"
   ]
  },
  {
   "cell_type": "code",
   "execution_count": 32,
   "id": "d63751b1",
   "metadata": {},
   "outputs": [
    {
     "name": "stdout",
     "output_type": "stream",
     "text": [
      "ROC-AUC мера наилучшей модели на валидационной выборке: 0.5967082094803073\n"
     ]
    }
   ],
   "source": [
    "predicted_valid = labelencoder.transform(predicted_valid)\n",
    "print(\"ROC-AUC мера наилучшей модели на валидационной выборке:\", roc_auc_score(y_val, predicted_valid))"
   ]
  },
  {
   "cell_type": "markdown",
   "id": "2248afc5",
   "metadata": {},
   "source": [
    "#### decision tree classifier"
   ]
  },
  {
   "cell_type": "code",
   "execution_count": 33,
   "id": "d50f20a7",
   "metadata": {},
   "outputs": [],
   "source": [
    "from sklearn.tree import DecisionTreeClassifier"
   ]
  },
  {
   "cell_type": "code",
   "execution_count": 34,
   "id": "c5b036d4",
   "metadata": {},
   "outputs": [
    {
     "data": {
      "text/plain": [
       "{'criterion': 'gini', 'max_depth': 120}"
      ]
     },
     "execution_count": 34,
     "metadata": {},
     "output_type": "execute_result"
    }
   ],
   "source": [
    "parametrs = { 'criterion': ['gini','entropy'],\n",
    "             'max_depth': [4,5,6,7,8,9,10,11,12,15,20,30,40,50,70,90,120,150]}\n",
    "dec_tre_clas = DecisionTreeClassifier()\n",
    "grid_dec_tre_clas = GridSearchCV(dec_tre_clas, parametrs, cv=5)\n",
    "grid_dec_tre_clas.fit(tf_idf_train, y_train)\n",
    "grid_dec_tre_clas.best_params_"
   ]
  },
  {
   "cell_type": "code",
   "execution_count": 35,
   "id": "323be53a",
   "metadata": {},
   "outputs": [],
   "source": [
    "model_dec_tre_clas = DecisionTreeClassifier(criterion = 'gini', max_depth = 50)\n",
    "model_dec_tre_clas.fit(tf_idf_train, y_train)\n",
    "predicted_valid = model_dec_tre_clas.predict(tf_idf_valid)"
   ]
  },
  {
   "cell_type": "code",
   "execution_count": 36,
   "id": "76791277",
   "metadata": {},
   "outputs": [
    {
     "name": "stdout",
     "output_type": "stream",
     "text": [
      "ROC-AUC мера наилучшей модели на валидационной выборке: 0.829588977161605\n"
     ]
    }
   ],
   "source": [
    "predicted_valid = labelencoder.transform(predicted_valid)\n",
    "print(\"ROC-AUC мера наилучшей модели на валидационной выборке:\", roc_auc_score(y_val, predicted_valid))"
   ]
  },
  {
   "cell_type": "markdown",
   "id": "7fded48a",
   "metadata": {},
   "source": [
    "logistic regression = 0.9000497619167432\n",
    "\n",
    "random forest classifier = 0.596839014755247\n",
    "\n",
    "decision tree classifier = 0.8278839473235828"
   ]
  },
  {
   "cell_type": "markdown",
   "id": "bf838348",
   "metadata": {},
   "source": [
    "### модель с наибольшим значением roc_auc метрики - logistic regression"
   ]
  },
  {
   "cell_type": "markdown",
   "id": "a595e982",
   "metadata": {},
   "source": [
    "#### тестирование модели:"
   ]
  },
  {
   "cell_type": "code",
   "execution_count": 37,
   "id": "3b4a20da",
   "metadata": {},
   "outputs": [],
   "source": [
    "preds = model_log_reg.predict(tf_idf_test)"
   ]
  },
  {
   "cell_type": "markdown",
   "id": "94502b16",
   "metadata": {},
   "source": [
    "### запишем предсказания модели в файл"
   ]
  },
  {
   "cell_type": "code",
   "execution_count": 38,
   "id": "a6c28461",
   "metadata": {},
   "outputs": [
    {
     "data": {
      "text/html": [
       "<div>\n",
       "<style scoped>\n",
       "    .dataframe tbody tr th:only-of-type {\n",
       "        vertical-align: middle;\n",
       "    }\n",
       "\n",
       "    .dataframe tbody tr th {\n",
       "        vertical-align: top;\n",
       "    }\n",
       "\n",
       "    .dataframe thead th {\n",
       "        text-align: right;\n",
       "    }\n",
       "</style>\n",
       "<table border=\"1\" class=\"dataframe\">\n",
       "  <thead>\n",
       "    <tr style=\"text-align: right;\">\n",
       "      <th></th>\n",
       "      <th>text</th>\n",
       "    </tr>\n",
       "  </thead>\n",
       "  <tbody>\n",
       "    <tr>\n",
       "      <th>0</th>\n",
       "      <td>j jim whitehead ejw cse ucsc edu writes j you ...</td>\n",
       "    </tr>\n",
       "    <tr>\n",
       "      <th>1</th>\n",
       "      <td>original message from bitbitch magnesium net p...</td>\n",
       "    </tr>\n",
       "    <tr>\n",
       "      <th>2</th>\n",
       "      <td>java for managers vince durasoft who just taug...</td>\n",
       "    </tr>\n",
       "    <tr>\n",
       "      <th>3</th>\n",
       "      <td>there is a youtuber name saiman says</td>\n",
       "    </tr>\n",
       "    <tr>\n",
       "      <th>4</th>\n",
       "      <td>underpriced issue with high return on equity t...</td>\n",
       "    </tr>\n",
       "  </tbody>\n",
       "</table>\n",
       "</div>"
      ],
      "text/plain": [
       "                                                text\n",
       "0  j jim whitehead ejw cse ucsc edu writes j you ...\n",
       "1  original message from bitbitch magnesium net p...\n",
       "2  java for managers vince durasoft who just taug...\n",
       "3               there is a youtuber name saiman says\n",
       "4  underpriced issue with high return on equity t..."
      ]
     },
     "execution_count": 38,
     "metadata": {},
     "output_type": "execute_result"
    }
   ],
   "source": [
    "data_test = data_test.drop(columns = ['lemm_text'])\n",
    "data_test.head()"
   ]
  },
  {
   "cell_type": "code",
   "execution_count": 39,
   "id": "4ee73c8b",
   "metadata": {},
   "outputs": [
    {
     "data": {
      "text/html": [
       "<div>\n",
       "<style scoped>\n",
       "    .dataframe tbody tr th:only-of-type {\n",
       "        vertical-align: middle;\n",
       "    }\n",
       "\n",
       "    .dataframe tbody tr th {\n",
       "        vertical-align: top;\n",
       "    }\n",
       "\n",
       "    .dataframe thead th {\n",
       "        text-align: right;\n",
       "    }\n",
       "</style>\n",
       "<table border=\"1\" class=\"dataframe\">\n",
       "  <thead>\n",
       "    <tr style=\"text-align: right;\">\n",
       "      <th></th>\n",
       "      <th>text</th>\n",
       "      <th>score</th>\n",
       "    </tr>\n",
       "  </thead>\n",
       "  <tbody>\n",
       "    <tr>\n",
       "      <th>0</th>\n",
       "      <td>j jim whitehead ejw cse ucsc edu writes j you ...</td>\n",
       "      <td>ham</td>\n",
       "    </tr>\n",
       "    <tr>\n",
       "      <th>1</th>\n",
       "      <td>original message from bitbitch magnesium net p...</td>\n",
       "      <td>ham</td>\n",
       "    </tr>\n",
       "    <tr>\n",
       "      <th>2</th>\n",
       "      <td>java for managers vince durasoft who just taug...</td>\n",
       "      <td>ham</td>\n",
       "    </tr>\n",
       "    <tr>\n",
       "      <th>3</th>\n",
       "      <td>there is a youtuber name saiman says</td>\n",
       "      <td>ham</td>\n",
       "    </tr>\n",
       "    <tr>\n",
       "      <th>4</th>\n",
       "      <td>underpriced issue with high return on equity t...</td>\n",
       "      <td>spam</td>\n",
       "    </tr>\n",
       "  </tbody>\n",
       "</table>\n",
       "</div>"
      ],
      "text/plain": [
       "                                                text score\n",
       "0  j jim whitehead ejw cse ucsc edu writes j you ...   ham\n",
       "1  original message from bitbitch magnesium net p...   ham\n",
       "2  java for managers vince durasoft who just taug...   ham\n",
       "3               there is a youtuber name saiman says   ham\n",
       "4  underpriced issue with high return on equity t...  spam"
      ]
     },
     "execution_count": 39,
     "metadata": {},
     "output_type": "execute_result"
    }
   ],
   "source": [
    "data_test['score'] = preds\n",
    "data_test.head()"
   ]
  },
  {
   "cell_type": "code",
   "execution_count": 40,
   "id": "2257ecad",
   "metadata": {},
   "outputs": [],
   "source": [
    "data_test.to_csv('test_spam_new.csv', index=False)"
   ]
  },
  {
   "cell_type": "code",
   "execution_count": null,
   "id": "bc1b6bc0",
   "metadata": {},
   "outputs": [],
   "source": []
  }
 ],
 "metadata": {
  "kernelspec": {
   "display_name": "Python 3 (ipykernel)",
   "language": "python",
   "name": "python3"
  },
  "language_info": {
   "codemirror_mode": {
    "name": "ipython",
    "version": 3
   },
   "file_extension": ".py",
   "mimetype": "text/x-python",
   "name": "python",
   "nbconvert_exporter": "python",
   "pygments_lexer": "ipython3",
   "version": "3.9.13"
  }
 },
 "nbformat": 4,
 "nbformat_minor": 5
}
